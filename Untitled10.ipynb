{
 "cells": [
  {
   "cell_type": "code",
   "execution_count": 11,
   "metadata": {},
   "outputs": [
    {
     "name": "stdout",
     "output_type": "stream",
     "text": [
      "[ 0.  0.  0.  0.  0.  0.  0.  0.  0.  0.  0.  0.  0.  0.  0.  0.  0.  0.\n",
      "  0.  0.  0.  0.  0.  0.  0.  0.  0.  0.  0.  0.  0.  0.  0.  0.  0.  0.\n",
      "  0.  0.  0.  0.  0.  0.  0.  0.  0.  0.  0.  0.  0. 50.  0.  0.  0.  0.\n",
      "  0.  0.  0.  0.  0.  0.  0.  0.  0.  0.  0.  0.  0.  0.  0.  0.  0.  0.\n",
      "  0.  0.  0.  0.  0.  0.  0.  0.  0.  0.  0.  0.  0.  0.  0.  0.  0.  0.\n",
      "  0.  0.  0.  0.  0.  0.  0.  0.  0.  0.]\n"
     ]
    }
   ],
   "source": [
    "#1. Create a vector or array of 100 elements. Its 50th value should be    50.0 and other values should be 0.0 (1 mark)\n",
    "import numpy as np\n",
    "a=np.zeros(100)\n",
    "a[49]=50.0\n",
    "print(a)"
   ]
  },
  {
   "cell_type": "code",
   "execution_count": 10,
   "metadata": {},
   "outputs": [
    {
     "name": "stdout",
     "output_type": "stream",
     "text": [
      "[ 1.  1.  1.  1.  1.  1.  1.  1.  1.  1.  1.  1.  1.  1.  1.  1.  1.  1.\n",
      "  1.  1.  1.  1.  1.  1.  1.  1.  1.  1.  1.  1.  1.  1.  1.  1.  1.  1.\n",
      "  1.  1.  1.  1.  1.  1.  1.  1.  1.  1.  1.  1.  1. 10.  1.  1.  1.  1.\n",
      "  1.  1.  1.  1.  1.  1.  1.  1.  1.  1.  1.  1.  1.  1.  1.  1.  1.  1.\n",
      "  1.  1.  1.  1.  1.  1.  1.  1.  1.  1.  1.  1.  1.  1.  1.  1.  1.  1.\n",
      "  1.  1.  1.  1.  1.  1.  1.  1.  1.  1.]\n"
     ]
    }
   ],
   "source": [
    "#2. Create a vector or array of 100 elements. Its 50th value should be    10.0 and other values should be 1.0 (1 mark)\n",
    "b=np.ones(100)\n",
    "b[49]=10.0\n",
    "print(b)"
   ]
  },
  {
   "cell_type": "code",
   "execution_count": 21,
   "metadata": {},
   "outputs": [
    {
     "name": "stdout",
     "output_type": "stream",
     "text": [
      "[ 3  4  5  6  7  8  9 10 11 12 13 14 15 16 17 18 19 20 21 22 23 24 25 26\n",
      " 27 28 29 30]\n"
     ]
    }
   ],
   "source": [
    "#3. Create a  vector or array whose values are from 3, 30 (1 mark)\n",
    "c=np.arange(3,31)\n",
    "print(c)"
   ]
  },
  {
   "cell_type": "code",
   "execution_count": 16,
   "metadata": {},
   "outputs": [
    {
     "name": "stdout",
     "output_type": "stream",
     "text": [
      "[5 4 3 2 1]\n"
     ]
    }
   ],
   "source": [
    "#4. X = (1,2,3,4,5).  Reverse and print X (1 mark\n",
    "x=np.array([1,2,3,4,5])\n",
    "print(x[::-1])"
   ]
  },
  {
   "cell_type": "code",
   "execution_count": 19,
   "metadata": {},
   "outputs": [
    {
     "name": "stdout",
     "output_type": "stream",
     "text": [
      "[[ 0  1  2  3  4]\n",
      " [ 5  6  7  8  9]\n",
      " [10 11 12 13 14]\n",
      " [15 16 17 18 19]\n",
      " [20 21 22 23 24]]\n"
     ]
    }
   ],
   "source": [
    "#5. Create a 5x 5 matrix and values should be from 0 to 24 (1 mark)\n",
    "print(np.arange(0,25).reshape(5,5))"
   ]
  },
  {
   "cell_type": "code",
   "execution_count": 30,
   "metadata": {},
   "outputs": [
    {
     "name": "stdout",
     "output_type": "stream",
     "text": [
      "Min value for A1:  0\n",
      "Min value for A2:  1\n",
      "Max value for A1:  4\n",
      "Max value for A1:  8\n"
     ]
    }
   ],
   "source": [
    "#6. Consider the following  matrix A1 and A2 \n",
    "a1=np.array([[1,3,0],\n",
    "            [2,1,1],\n",
    "            [3,4,0]])\n",
    "\n",
    "a2=np.array([[3,4,6],\n",
    "            [2,1,3],\n",
    "            [1,2,8]])\n",
    "#a) Find min. max of the values for A1 and A2\n",
    "print(\"Min value for A1: \",np.min(a1))\n",
    "print(\"Min value for A2: \",np.min(a2))\n",
    "print(\"Max value for A1: \",np.max(a1))\n",
    "print(\"Max value for A1: \",np.max(a2))"
   ]
  },
  {
   "cell_type": "code",
   "execution_count": 32,
   "metadata": {},
   "outputs": [
    {
     "name": "stdout",
     "output_type": "stream",
     "text": [
      "Mean value for A1:  1.6666666666666667\n",
      "Mean value for A2:  3.3333333333333335\n"
     ]
    }
   ],
   "source": [
    "#b) Find the mean value for A1 and A2\n",
    "print(\"Mean value for A1: \",np.mean(a1))\n",
    "print(\"Mean value for A2: \",np.mean(a2))"
   ]
  },
  {
   "cell_type": "code",
   "execution_count": 52,
   "metadata": {},
   "outputs": [
    {
     "name": "stdout",
     "output_type": "stream",
     "text": [
      "Original A1: \n",
      " [[1 3 0]\n",
      " [2 1 1]\n",
      " [3 4 0]]\n",
      "After transformation: \n",
      " [[1 3 0]\n",
      " [0 1 1]\n",
      " [0 0 0]]\n"
     ]
    }
   ],
   "source": [
    "#c) Make the values below the diagonal as 0.0 for A1\n",
    "print(\"Original A1: \\n\",a1)\n",
    "print(\"After transformation: \\n\",np.triu(a1, 0))\n"
   ]
  },
  {
   "cell_type": "code",
   "execution_count": 53,
   "metadata": {},
   "outputs": [
    {
     "data": {
      "text/plain": [
       "array([[ 9,  7, 15],\n",
       "       [ 9, 11, 23],\n",
       "       [17, 16, 30]])"
      ]
     },
     "execution_count": 53,
     "metadata": {},
     "output_type": "execute_result"
    }
   ],
   "source": [
    "#d) Multiply A1 and A2\n",
    "np.dot(a1,a2)"
   ]
  },
  {
   "cell_type": "code",
   "execution_count": 55,
   "metadata": {},
   "outputs": [
    {
     "data": {
      "text/plain": [
       "array([1, 2, 3, 4])"
      ]
     },
     "execution_count": 55,
     "metadata": {},
     "output_type": "execute_result"
    }
   ],
   "source": [
    "#e) What are the common values between A1 and A2\n",
    "np.intersect1d(a1, a2)"
   ]
  },
  {
   "cell_type": "code",
   "execution_count": 61,
   "metadata": {},
   "outputs": [
    {
     "name": "stdout",
     "output_type": "stream",
     "text": [
      "Value BEFORE swap: \n",
      " [[1 3 0]\n",
      " [2 1 1]\n",
      " [3 4 0]]\n",
      "Value AFTER sawp: \n",
      "\n",
      "[[3 4 0]\n",
      " [2 1 1]\n",
      " [1 3 0]]\n"
     ]
    }
   ],
   "source": [
    "#f) Swap first and 3rd rows of A1\n",
    "print(\"Value BEFORE swap: \\n\", a1)\n",
    "print(\"Value AFTER sawp: \\n\")\n",
    "a1[[0,2]] = a1[[2,0]]\n",
    "print(a1)"
   ]
  },
  {
   "cell_type": "code",
   "execution_count": 85,
   "metadata": {},
   "outputs": [
    {
     "name": "stdout",
     "output_type": "stream",
     "text": [
      "Most frequent number from A1:  1\n"
     ]
    }
   ],
   "source": [
    "#g) What is the  mosft frequent numbers from A1 and A2\n",
    "(values,counts) = np.unique(a1,return_counts=True)\n",
    "ind=np.argmax(counts)\n",
    "print(\"Most frequent number from A1: \",values[ind])  "
   ]
  },
  {
   "cell_type": "code",
   "execution_count": 93,
   "metadata": {},
   "outputs": [
    {
     "name": "stdout",
     "output_type": "stream",
     "text": [
      "Most frequent number from A2:  [[1 1 3]]\n"
     ]
    }
   ],
   "source": [
    "from scipy.stats import mode\n",
    "m=mode(a2)\n",
    "print(\"Most frequent number from A2: \",m[0])"
   ]
  },
  {
   "cell_type": "code",
   "execution_count": 112,
   "metadata": {},
   "outputs": [
    {
     "name": "stdout",
     "output_type": "stream",
     "text": [
      "Original A1: \n",
      " [[3 4 0]\n",
      " [2 1 1]\n",
      " [1 3 0]]\n",
      "After adding column: \n"
     ]
    },
    {
     "data": {
      "text/plain": [
       "array([[3., 4., 0., 1.],\n",
       "       [2., 1., 1., 1.],\n",
       "       [1., 3., 0., 1.]])"
      ]
     },
     "execution_count": 112,
     "metadata": {},
     "output_type": "execute_result"
    }
   ],
   "source": [
    "#h) Add a column to A1 with values 1 1 1\n",
    "print(\"Original A1: \\n\",a1) \n",
    "print(\"After adding column: \")\n",
    "(np.c_[ a1, np.ones(3) ]) "
   ]
  },
  {
   "cell_type": "code",
   "execution_count": 115,
   "metadata": {},
   "outputs": [
    {
     "name": "stdout",
     "output_type": "stream",
     "text": [
      "Original A2: \n",
      " [[3 4 6]\n",
      " [2 1 3]\n",
      " [1 2 8]]\n",
      "After adding row: \n"
     ]
    },
    {
     "data": {
      "text/plain": [
       "array([[3, 4, 6],\n",
       "       [2, 1, 3],\n",
       "       [1, 2, 8],\n",
       "       [2, 2, 2]])"
      ]
     },
     "execution_count": 115,
     "metadata": {},
     "output_type": "execute_result"
    }
   ],
   "source": [
    "#i) Add a row to A2 with 2 2 2\n",
    "print(\"Original A2: \\n\",a2)\n",
    "print(\"After adding row: \")\n",
    "(np.r_[ a2, np.full((1,3), 2) ]) "
   ]
  },
  {
   "cell_type": "code",
   "execution_count": 152,
   "metadata": {},
   "outputs": [
    {
     "name": "stdout",
     "output_type": "stream",
     "text": [
      "[17, 16, 30]\n",
      "[9, 11, 23]\n",
      "[9, 7, 15]\n"
     ]
    }
   ],
   "source": [
    "#7. Write a function for matrix multiplications and additions. Use A1 and A2 to test.[3 marks]\n",
    "\n",
    "#Multiplication\n",
    "  result = [[0,0,0],\n",
    "         [0,0,0],\n",
    "         [0,0,0]]\n",
    "def mul(x,y):\n",
    "    # iterate through rows of X\n",
    "    for i in range(len(x)): \n",
    "        # iterate through columns of Y\n",
    "        for j in range(len(y[0])):\n",
    "            # iterate through rows of Y\n",
    "            for k in range(len(y)):\n",
    "                result[i][j] += x[i][k] * y[k][j]\n",
    "\n",
    "for r in result:\n",
    "    print(r)\n",
    "\n",
    "\n",
    "mul(a1,a2)\n"
   ]
  },
  {
   "cell_type": "code",
   "execution_count": 155,
   "metadata": {},
   "outputs": [
    {
     "name": "stdout",
     "output_type": "stream",
     "text": [
      "[6, 8, 6]\n",
      "[4, 2, 4]\n",
      "[2, 5, 8]\n"
     ]
    }
   ],
   "source": [
    "#Addition\n",
    "def add_mat(x,y):\n",
    "  \n",
    "    # iterate through rows\n",
    "    for i in range(len(x)):\n",
    "        # iterate through columns\n",
    "        for j in range(len(x[0])):\n",
    "            result[i][j] = x[i][j] + y[i][j]\n",
    "\n",
    "for r in result:\n",
    "    print(r)\n",
    "    \n",
    "add_mat(a1,a2)"
   ]
  },
  {
   "cell_type": "code",
   "execution_count": 161,
   "metadata": {},
   "outputs": [
    {
     "name": "stdout",
     "output_type": "stream",
     "text": [
      "Sorted array is:\n",
      "[5.038, 11.0, 12.0, 12.35, 22.0, 25.0, 34.0, 64.0, 69.33, 90.0]\n"
     ]
    }
   ],
   "source": [
    "#8. Write a bubble sort program with normal Python  for 10 floating point numbers [3 marks]\n",
    "def bubbleSort(arr):\n",
    "    n = len(arr)\n",
    " \n",
    "    for i in range(n):\n",
    " \n",
    "      \n",
    "        for j in range(0, n-i-1):\n",
    " \n",
    "            if arr[j] > arr[j+1] :\n",
    "                arr[j], arr[j+1] = arr[j+1], arr[j]\n",
    "                \n",
    "                \n",
    "arr = [64.0, 34.0, 25.0, 12.0, 22.0, 11.0, 90.0, 5.038, 69.330, 12.35]\n",
    " \n",
    "bubbleSort(arr)\n",
    " \n",
    "print (\"Sorted array is:\")\n",
    "print(arr)"
   ]
  },
  {
   "cell_type": "code",
   "execution_count": null,
   "metadata": {},
   "outputs": [],
   "source": []
  }
 ],
 "metadata": {
  "kernelspec": {
   "display_name": "Python 3",
   "language": "python",
   "name": "python3"
  },
  "language_info": {
   "codemirror_mode": {
    "name": "ipython",
    "version": 3
   },
   "file_extension": ".py",
   "mimetype": "text/x-python",
   "name": "python",
   "nbconvert_exporter": "python",
   "pygments_lexer": "ipython3",
   "version": "3.6.5"
  }
 },
 "nbformat": 4,
 "nbformat_minor": 2
}
